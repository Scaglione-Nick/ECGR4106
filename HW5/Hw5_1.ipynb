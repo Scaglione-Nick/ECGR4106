{
  "nbformat": 4,
  "nbformat_minor": 0,
  "metadata": {
    "colab": {
      "provenance": [],
      "authorship_tag": "ABX9TyOmkJAbNPRevo+NQBbgsDTd",
      "include_colab_link": true
    },
    "kernelspec": {
      "name": "python3",
      "display_name": "Python 3"
    },
    "language_info": {
      "name": "python"
    }
  },
  "cells": [
    {
      "cell_type": "markdown",
      "metadata": {
        "id": "view-in-github",
        "colab_type": "text"
      },
      "source": [
        "<a href=\"https://colab.research.google.com/github/Scaglione-Nick/ECGR4106/blob/main/Hw5_1.ipynb\" target=\"_parent\"><img src=\"https://colab.research.google.com/assets/colab-badge.svg\" alt=\"Open In Colab\"/></a>"
      ]
    },
    {
      "cell_type": "code",
      "execution_count": null,
      "metadata": {
        "colab": {
          "base_uri": "https://localhost:8080/"
        },
        "id": "b1Cpy9qRyFC1",
        "outputId": "9644044d-ee26-467f-8137-893cda829ae3"
      },
      "outputs": [
        {
          "output_type": "stream",
          "name": "stdout",
          "text": [
            "Input shape (X_train): (2378, 10)\n",
            "Target shape (y_train): (2378,)\n",
            "Input shape (X_train): (2368, 20)\n",
            "Target shape (y_train): (2368,)\n",
            "Input shape (X_train): (2358, 30)\n",
            "Target shape (y_train): (2358,)\n"
          ]
        }
      ],
      "source": [
        "import numpy as np\n",
        "\n",
        "# Given text for next character prediction task\n",
        "text = \"\"\"\n",
        "Next character prediction is a fundamental task in the field of natural language processing (NLP) that involves predicting the next character in a sequence of text based on the characters that precede it. This task is essential for various applications, including text auto-completion, spell checking, and even in the development of sophisticated AI models capable of generating human-like text.\n",
        "At its core, next character prediction relies on statistical models or deep learning algorithms to analyze a given sequence of text and predict which character is most likely to follow. These predictions are based on patterns and relationships learned from large datasets of text during the training phase of the model.\n",
        "One of the most popular approaches to next character prediction involves the use of Recurrent Neural Networks (RNNs), and more specifically, a variant called Long Short-Term Memory (LSTM) networks. RNNs are particularly well-suited for sequential data like text, as they can maintain information in 'memory' about previous characters to inform the prediction of the next character. LSTM networks enhance this capability by being able to remember long-term dependencies, making them even more effective for next character prediction tasks.\n",
        "Training a model for next character prediction involves feeding it large amounts of text data, allowing it to learn the probability of each character's appearance following a sequence of characters. During this training process, the model adjusts its parameters to minimize the difference between its predictions and the actual outcomes, thus improving its predictive accuracy over time.\n",
        "Once trained, the model can be used to predict the next character in a given piece of text by considering the sequence of characters that precede it. This can enhance user experience in text editing software, improve efficiency in coding environments with auto-completion features, and enable more natural interactions with AI-based chatbots and virtual assistants.\n",
        "In summary, next character prediction plays a crucial role in enhancing the capabilities of various NLP applications, making text-based interactions more efficient, accurate, and human-like. Through the use of advanced machine learning models like RNNs and LSTMs, next character prediction continues to evolve, opening new possibilities for the future of text-based technology.\n",
        "\"\"\"\n",
        "\n",
        "# Create character-to-index and index-to-character dictionaries\n",
        "chars = sorted(set(text))\n",
        "char_to_idx = {ch: idx for idx, ch in enumerate(chars)}\n",
        "idx_to_char = {idx: ch for idx, ch in enumerate(chars)}\n",
        "\n",
        "# Prepare sequences for training with lengths 10, 20, and 30\n",
        "def prepare_sequences(text, seq_length):\n",
        "    sequences = []\n",
        "    targets = []\n",
        "    for i in range(0, len(text) - seq_length):\n",
        "        seq = text[i:i + seq_length]\n",
        "        target = text[i + seq_length]  # Next character after the sequence\n",
        "        sequences.append([char_to_idx[c] for c in seq])\n",
        "        targets.append(char_to_idx[target])  # Target is the next character\n",
        "\n",
        "    sequences = np.array(sequences)\n",
        "    targets = np.array(targets)\n",
        "\n",
        "    # Print shapes to debug\n",
        "    print(f\"Input shape (X_train): {sequences.shape}\")\n",
        "    print(f\"Target shape (y_train): {targets.shape}\")\n",
        "\n",
        "    return sequences, targets\n",
        "\n",
        "\n",
        "# Prepare data for different sequence lengths\n",
        "seq_lengths = [10, 20, 30]\n",
        "data = {length: prepare_sequences(text, length) for length in seq_lengths}\n",
        "\n"
      ]
    },
    {
      "cell_type": "code",
      "source": [
        "import tensorflow as tf\n",
        "from tensorflow.keras.layers import Input, Dense, Embedding, LayerNormalization, MultiHeadAttention\n",
        "from tensorflow.keras.models import Model\n",
        "\n",
        "# Define Transformer Model\n",
        "def transformer_model(seq_length, vocab_size, embed_dim=64, num_heads=4, num_layers=2):\n",
        "    inputs = Input(shape=(seq_length,))\n",
        "    embedding = Embedding(vocab_size, embed_dim)(inputs)\n",
        "    x = embedding\n",
        "    for _ in range(num_layers):\n",
        "        x = MultiHeadAttention(num_heads=num_heads, key_dim=embed_dim)(x, x)\n",
        "        x = LayerNormalization()(x)\n",
        "    # Use the last token's output to predict the next character\n",
        "    x = x[:, -1, :]  # Select the last token in the sequence\n",
        "    x = Dense(vocab_size, activation='softmax')(x)\n",
        "    model = Model(inputs, x)\n",
        "    model.compile(optimizer='adam', loss='sparse_categorical_crossentropy', metrics=['accuracy'])\n",
        "    return model\n",
        "  # Define models for different sequence lengths\n",
        "models = {}\n",
        "seq_lengths = [10, 20, 30]  # Example sequence lengths\n",
        "vocab_size = len(chars)\n",
        "for length in seq_lengths:\n",
        "    models[length] = transformer_model(length, vocab_size)  # Use the transformer model\n",
        "    # or use the RNN model if needed\n",
        "    # rnn_models[length] = rnn_model(length, vocab_size)\n",
        "\n"
      ],
      "metadata": {
        "id": "zwUxNWNuysaW",
        "colab": {
          "base_uri": "https://localhost:8080/",
          "height": 214
        },
        "outputId": "493acb7f-f797-4d3a-8607-5c2e68198ff9"
      },
      "execution_count": null,
      "outputs": [
        {
          "output_type": "error",
          "ename": "NameError",
          "evalue": "name 'chars' is not defined",
          "traceback": [
            "\u001b[0;31m---------------------------------------------------------------------------\u001b[0m",
            "\u001b[0;31mNameError\u001b[0m                                 Traceback (most recent call last)",
            "\u001b[0;32m<ipython-input-1-b931c540c1af>\u001b[0m in \u001b[0;36m<cell line: 0>\u001b[0;34m()\u001b[0m\n\u001b[1;32m     20\u001b[0m \u001b[0mmodels\u001b[0m \u001b[0;34m=\u001b[0m \u001b[0;34m{\u001b[0m\u001b[0;34m}\u001b[0m\u001b[0;34m\u001b[0m\u001b[0;34m\u001b[0m\u001b[0m\n\u001b[1;32m     21\u001b[0m \u001b[0mseq_lengths\u001b[0m \u001b[0;34m=\u001b[0m \u001b[0;34m[\u001b[0m\u001b[0;36m10\u001b[0m\u001b[0;34m,\u001b[0m \u001b[0;36m20\u001b[0m\u001b[0;34m,\u001b[0m \u001b[0;36m30\u001b[0m\u001b[0;34m]\u001b[0m  \u001b[0;31m# Example sequence lengths\u001b[0m\u001b[0;34m\u001b[0m\u001b[0;34m\u001b[0m\u001b[0m\n\u001b[0;32m---> 22\u001b[0;31m \u001b[0mvocab_size\u001b[0m \u001b[0;34m=\u001b[0m \u001b[0mlen\u001b[0m\u001b[0;34m(\u001b[0m\u001b[0mchars\u001b[0m\u001b[0;34m)\u001b[0m\u001b[0;34m\u001b[0m\u001b[0;34m\u001b[0m\u001b[0m\n\u001b[0m\u001b[1;32m     23\u001b[0m \u001b[0;32mfor\u001b[0m \u001b[0mlength\u001b[0m \u001b[0;32min\u001b[0m \u001b[0mseq_lengths\u001b[0m\u001b[0;34m:\u001b[0m\u001b[0;34m\u001b[0m\u001b[0;34m\u001b[0m\u001b[0m\n\u001b[1;32m     24\u001b[0m     \u001b[0mmodels\u001b[0m\u001b[0;34m[\u001b[0m\u001b[0mlength\u001b[0m\u001b[0;34m]\u001b[0m \u001b[0;34m=\u001b[0m \u001b[0mtransformer_model\u001b[0m\u001b[0;34m(\u001b[0m\u001b[0mlength\u001b[0m\u001b[0;34m,\u001b[0m \u001b[0mvocab_size\u001b[0m\u001b[0;34m)\u001b[0m  \u001b[0;31m# Use the transformer model\u001b[0m\u001b[0;34m\u001b[0m\u001b[0;34m\u001b[0m\u001b[0m\n",
            "\u001b[0;31mNameError\u001b[0m: name 'chars' is not defined"
          ]
        }
      ]
    },
    {
      "cell_type": "code",
      "source": [
        "from tensorflow.keras.layers import LSTM, SimpleRNN\n",
        "\n",
        "def rnn_model(seq_length, vocab_size, embed_dim=64, rnn_type='LSTM'):\n",
        "    inputs = Input(shape=(seq_length,))\n",
        "    embedding = Embedding(vocab_size, embed_dim)(inputs)\n",
        "    if rnn_type == 'LSTM':\n",
        "        x = LSTM(64)(embedding)\n",
        "    elif rnn_type == 'RNN':\n",
        "        x = SimpleRNN(64)(embedding)\n",
        "    # Only output the prediction for the next character\n",
        "    outputs = Dense(vocab_size, activation='softmax')(x)\n",
        "    model = Model(inputs, outputs)\n",
        "    model.compile(optimizer='adam', loss='sparse_categorical_crossentropy', metrics=['accuracy'])\n",
        "    return model\n",
        "rnn_models = {}\n",
        "seq_lengths = [10, 20, 30]  # Example sequence lengths\n",
        "vocab_size = len(chars)\n",
        "for length in seq_lengths:\n",
        "    rnn_models[length] = rnn_model(length, vocab_size)  # Use the transformer model\n",
        "    # or use the RNN model if needed\n",
        "    # rnn_models[length] = rnn_model(length, vocab_size)\n"
      ],
      "metadata": {
        "id": "bZtlYK00yztR"
      },
      "execution_count": null,
      "outputs": []
    },
    {
      "cell_type": "code",
      "source": [
        "# Train the Transformer and RNN models for different sequence lengths\n",
        "def train_model(model, data, seq_length):\n",
        "    X_train, y_train = data\n",
        "    model.fit(X_train, y_train, epochs=10, batch_size=64)\n",
        "\n",
        "for length, data_set in data.items():\n",
        "    train_model(models[length], data_set, length)\n",
        "    train_model(rnn_models[length], data_set, length)\n"
      ],
      "metadata": {
        "colab": {
          "base_uri": "https://localhost:8080/"
        },
        "id": "3hruHj9wy3oo",
        "outputId": "2623a69a-c30c-477f-93f4-f29e3d74cd66"
      },
      "execution_count": null,
      "outputs": [
        {
          "output_type": "stream",
          "name": "stdout",
          "text": [
            "Epoch 1/10\n",
            "\u001b[1m38/38\u001b[0m \u001b[32m━━━━━━━━━━━━━━━━━━━━\u001b[0m\u001b[37m\u001b[0m \u001b[1m2s\u001b[0m 54ms/step - accuracy: 0.2275 - loss: 2.7229\n",
            "Epoch 2/10\n",
            "\u001b[1m38/38\u001b[0m \u001b[32m━━━━━━━━━━━━━━━━━━━━\u001b[0m\u001b[37m\u001b[0m \u001b[1m2s\u001b[0m 58ms/step - accuracy: 0.2303 - loss: 2.6557\n",
            "Epoch 3/10\n",
            "\u001b[1m38/38\u001b[0m \u001b[32m━━━━━━━━━━━━━━━━━━━━\u001b[0m\u001b[37m\u001b[0m \u001b[1m2s\u001b[0m 59ms/step - accuracy: 0.2386 - loss: 2.6403\n",
            "Epoch 4/10\n",
            "\u001b[1m38/38\u001b[0m \u001b[32m━━━━━━━━━━━━━━━━━━━━\u001b[0m\u001b[37m\u001b[0m \u001b[1m3s\u001b[0m 61ms/step - accuracy: 0.2172 - loss: 2.6505\n",
            "Epoch 5/10\n",
            "\u001b[1m38/38\u001b[0m \u001b[32m━━━━━━━━━━━━━━━━━━━━\u001b[0m\u001b[37m\u001b[0m \u001b[1m4s\u001b[0m 95ms/step - accuracy: 0.2353 - loss: 2.6412\n",
            "Epoch 6/10\n",
            "\u001b[1m38/38\u001b[0m \u001b[32m━━━━━━━━━━━━━━━━━━━━\u001b[0m\u001b[37m\u001b[0m \u001b[1m2s\u001b[0m 53ms/step - accuracy: 0.2427 - loss: 2.6002\n",
            "Epoch 7/10\n",
            "\u001b[1m38/38\u001b[0m \u001b[32m━━━━━━━━━━━━━━━━━━━━\u001b[0m\u001b[37m\u001b[0m \u001b[1m2s\u001b[0m 62ms/step - accuracy: 0.2427 - loss: 2.6129\n",
            "Epoch 8/10\n",
            "\u001b[1m38/38\u001b[0m \u001b[32m━━━━━━━━━━━━━━━━━━━━\u001b[0m\u001b[37m\u001b[0m \u001b[1m2s\u001b[0m 61ms/step - accuracy: 0.2511 - loss: 2.5884\n",
            "Epoch 9/10\n",
            "\u001b[1m38/38\u001b[0m \u001b[32m━━━━━━━━━━━━━━━━━━━━\u001b[0m\u001b[37m\u001b[0m \u001b[1m2s\u001b[0m 61ms/step - accuracy: 0.2513 - loss: 2.5755\n",
            "Epoch 10/10\n",
            "\u001b[1m38/38\u001b[0m \u001b[32m━━━━━━━━━━━━━━━━━━━━\u001b[0m\u001b[37m\u001b[0m \u001b[1m3s\u001b[0m 90ms/step - accuracy: 0.2597 - loss: 2.5165\n",
            "Epoch 1/10\n",
            "\u001b[1m38/38\u001b[0m \u001b[32m━━━━━━━━━━━━━━━━━━━━\u001b[0m\u001b[37m\u001b[0m \u001b[1m3s\u001b[0m 10ms/step - accuracy: 0.1197 - loss: 3.6793\n",
            "Epoch 2/10\n",
            "\u001b[1m38/38\u001b[0m \u001b[32m━━━━━━━━━━━━━━━━━━━━\u001b[0m\u001b[37m\u001b[0m \u001b[1m0s\u001b[0m 10ms/step - accuracy: 0.1464 - loss: 3.0602\n",
            "Epoch 3/10\n",
            "\u001b[1m38/38\u001b[0m \u001b[32m━━━━━━━━━━━━━━━━━━━━\u001b[0m\u001b[37m\u001b[0m \u001b[1m1s\u001b[0m 11ms/step - accuracy: 0.1481 - loss: 3.0261\n",
            "Epoch 4/10\n",
            "\u001b[1m38/38\u001b[0m \u001b[32m━━━━━━━━━━━━━━━━━━━━\u001b[0m\u001b[37m\u001b[0m \u001b[1m0s\u001b[0m 12ms/step - accuracy: 0.1665 - loss: 2.9545\n",
            "Epoch 5/10\n",
            "\u001b[1m38/38\u001b[0m \u001b[32m━━━━━━━━━━━━━━━━━━━━\u001b[0m\u001b[37m\u001b[0m \u001b[1m1s\u001b[0m 10ms/step - accuracy: 0.2162 - loss: 2.8463\n",
            "Epoch 6/10\n",
            "\u001b[1m38/38\u001b[0m \u001b[32m━━━━━━━━━━━━━━━━━━━━\u001b[0m\u001b[37m\u001b[0m \u001b[1m0s\u001b[0m 11ms/step - accuracy: 0.2424 - loss: 2.7461\n",
            "Epoch 7/10\n",
            "\u001b[1m38/38\u001b[0m \u001b[32m━━━━━━━━━━━━━━━━━━━━\u001b[0m\u001b[37m\u001b[0m \u001b[1m0s\u001b[0m 10ms/step - accuracy: 0.2818 - loss: 2.6644\n",
            "Epoch 8/10\n",
            "\u001b[1m38/38\u001b[0m \u001b[32m━━━━━━━━━━━━━━━━━━━━\u001b[0m\u001b[37m\u001b[0m \u001b[1m0s\u001b[0m 10ms/step - accuracy: 0.2965 - loss: 2.5722\n",
            "Epoch 9/10\n",
            "\u001b[1m38/38\u001b[0m \u001b[32m━━━━━━━━━━━━━━━━━━━━\u001b[0m\u001b[37m\u001b[0m \u001b[1m0s\u001b[0m 12ms/step - accuracy: 0.3104 - loss: 2.4558\n",
            "Epoch 10/10\n",
            "\u001b[1m38/38\u001b[0m \u001b[32m━━━━━━━━━━━━━━━━━━━━\u001b[0m\u001b[37m\u001b[0m \u001b[1m1s\u001b[0m 24ms/step - accuracy: 0.3147 - loss: 2.4690\n",
            "Epoch 1/10\n",
            "\u001b[1m37/37\u001b[0m \u001b[32m━━━━━━━━━━━━━━━━━━━━\u001b[0m\u001b[37m\u001b[0m \u001b[1m9s\u001b[0m 91ms/step - accuracy: 0.0913 - loss: 3.3097\n",
            "Epoch 2/10\n",
            "\u001b[1m37/37\u001b[0m \u001b[32m━━━━━━━━━━━━━━━━━━━━\u001b[0m\u001b[37m\u001b[0m \u001b[1m3s\u001b[0m 94ms/step - accuracy: 0.1630 - loss: 3.0454\n",
            "Epoch 3/10\n",
            "\u001b[1m37/37\u001b[0m \u001b[32m━━━━━━━━━━━━━━━━━━━━\u001b[0m\u001b[37m\u001b[0m \u001b[1m6s\u001b[0m 114ms/step - accuracy: 0.1594 - loss: 3.0303\n",
            "Epoch 4/10\n",
            "\u001b[1m37/37\u001b[0m \u001b[32m━━━━━━━━━━━━━━━━━━━━\u001b[0m\u001b[37m\u001b[0m \u001b[1m4s\u001b[0m 87ms/step - accuracy: 0.1566 - loss: 3.0082\n",
            "Epoch 5/10\n",
            "\u001b[1m37/37\u001b[0m \u001b[32m━━━━━━━━━━━━━━━━━━━━\u001b[0m\u001b[37m\u001b[0m \u001b[1m7s\u001b[0m 150ms/step - accuracy: 0.1676 - loss: 2.9848\n",
            "Epoch 6/10\n",
            "\u001b[1m37/37\u001b[0m \u001b[32m━━━━━━━━━━━━━━━━━━━━\u001b[0m\u001b[37m\u001b[0m \u001b[1m8s\u001b[0m 90ms/step - accuracy: 0.1365 - loss: 2.9893\n",
            "Epoch 7/10\n",
            "\u001b[1m37/37\u001b[0m \u001b[32m━━━━━━━━━━━━━━━━━━━━\u001b[0m\u001b[37m\u001b[0m \u001b[1m5s\u001b[0m 128ms/step - accuracy: 0.1670 - loss: 2.9624\n",
            "Epoch 8/10\n",
            "\u001b[1m37/37\u001b[0m \u001b[32m━━━━━━━━━━━━━━━━━━━━\u001b[0m\u001b[37m\u001b[0m \u001b[1m4s\u001b[0m 84ms/step - accuracy: 0.1808 - loss: 2.9015\n",
            "Epoch 9/10\n",
            "\u001b[1m37/37\u001b[0m \u001b[32m━━━━━━━━━━━━━━━━━━━━\u001b[0m\u001b[37m\u001b[0m \u001b[1m4s\u001b[0m 108ms/step - accuracy: 0.1937 - loss: 2.8882\n",
            "Epoch 10/10\n",
            "\u001b[1m37/37\u001b[0m \u001b[32m━━━━━━━━━━━━━━━━━━━━\u001b[0m\u001b[37m\u001b[0m \u001b[1m7s\u001b[0m 169ms/step - accuracy: 0.1749 - loss: 2.8446\n",
            "Epoch 1/10\n",
            "\u001b[1m37/37\u001b[0m \u001b[32m━━━━━━━━━━━━━━━━━━━━\u001b[0m\u001b[37m\u001b[0m \u001b[1m3s\u001b[0m 18ms/step - accuracy: 0.1140 - loss: 3.6460\n",
            "Epoch 2/10\n",
            "\u001b[1m37/37\u001b[0m \u001b[32m━━━━━━━━━━━━━━━━━━━━\u001b[0m\u001b[37m\u001b[0m \u001b[1m1s\u001b[0m 16ms/step - accuracy: 0.1473 - loss: 3.0276\n",
            "Epoch 3/10\n",
            "\u001b[1m37/37\u001b[0m \u001b[32m━━━━━━━━━━━━━━━━━━━━\u001b[0m\u001b[37m\u001b[0m \u001b[1m1s\u001b[0m 17ms/step - accuracy: 0.1630 - loss: 2.9911\n",
            "Epoch 4/10\n",
            "\u001b[1m37/37\u001b[0m \u001b[32m━━━━━━━━━━━━━━━━━━━━\u001b[0m\u001b[37m\u001b[0m \u001b[1m1s\u001b[0m 19ms/step - accuracy: 0.1510 - loss: 2.9773\n",
            "Epoch 5/10\n",
            "\u001b[1m37/37\u001b[0m \u001b[32m━━━━━━━━━━━━━━━━━━━━\u001b[0m\u001b[37m\u001b[0m \u001b[1m1s\u001b[0m 17ms/step - accuracy: 0.2051 - loss: 2.8954\n",
            "Epoch 6/10\n",
            "\u001b[1m37/37\u001b[0m \u001b[32m━━━━━━━━━━━━━━━━━━━━\u001b[0m\u001b[37m\u001b[0m \u001b[1m1s\u001b[0m 17ms/step - accuracy: 0.2594 - loss: 2.7800\n",
            "Epoch 7/10\n",
            "\u001b[1m37/37\u001b[0m \u001b[32m━━━━━━━━━━━━━━━━━━━━\u001b[0m\u001b[37m\u001b[0m \u001b[1m1s\u001b[0m 19ms/step - accuracy: 0.2764 - loss: 2.6979\n",
            "Epoch 8/10\n",
            "\u001b[1m37/37\u001b[0m \u001b[32m━━━━━━━━━━━━━━━━━━━━\u001b[0m\u001b[37m\u001b[0m \u001b[1m1s\u001b[0m 25ms/step - accuracy: 0.3056 - loss: 2.5688\n",
            "Epoch 9/10\n",
            "\u001b[1m37/37\u001b[0m \u001b[32m━━━━━━━━━━━━━━━━━━━━\u001b[0m\u001b[37m\u001b[0m \u001b[1m1s\u001b[0m 28ms/step - accuracy: 0.3052 - loss: 2.5544\n",
            "Epoch 10/10\n",
            "\u001b[1m37/37\u001b[0m \u001b[32m━━━━━━━━━━━━━━━━━━━━\u001b[0m\u001b[37m\u001b[0m \u001b[1m1s\u001b[0m 32ms/step - accuracy: 0.3210 - loss: 2.4488\n",
            "Epoch 1/10\n",
            "\u001b[1m37/37\u001b[0m \u001b[32m━━━━━━━━━━━━━━━━━━━━\u001b[0m\u001b[37m\u001b[0m \u001b[1m9s\u001b[0m 115ms/step - accuracy: 0.1083 - loss: 3.3271\n",
            "Epoch 2/10\n",
            "\u001b[1m37/37\u001b[0m \u001b[32m━━━━━━━━━━━━━━━━━━━━\u001b[0m\u001b[37m\u001b[0m \u001b[1m6s\u001b[0m 159ms/step - accuracy: 0.1093 - loss: 3.0884\n",
            "Epoch 3/10\n",
            "\u001b[1m37/37\u001b[0m \u001b[32m━━━━━━━━━━━━━━━━━━━━\u001b[0m\u001b[37m\u001b[0m \u001b[1m5s\u001b[0m 128ms/step - accuracy: 0.1449 - loss: 3.0506\n",
            "Epoch 4/10\n",
            "\u001b[1m37/37\u001b[0m \u001b[32m━━━━━━━━━━━━━━━━━━━━\u001b[0m\u001b[37m\u001b[0m \u001b[1m6s\u001b[0m 153ms/step - accuracy: 0.1383 - loss: 3.0584\n",
            "Epoch 5/10\n",
            "\u001b[1m37/37\u001b[0m \u001b[32m━━━━━━━━━━━━━━━━━━━━\u001b[0m\u001b[37m\u001b[0m \u001b[1m9s\u001b[0m 120ms/step - accuracy: 0.1357 - loss: 3.0490\n",
            "Epoch 6/10\n",
            "\u001b[1m37/37\u001b[0m \u001b[32m━━━━━━━━━━━━━━━━━━━━\u001b[0m\u001b[37m\u001b[0m \u001b[1m6s\u001b[0m 159ms/step - accuracy: 0.1551 - loss: 3.0315\n",
            "Epoch 7/10\n",
            "\u001b[1m37/37\u001b[0m \u001b[32m━━━━━━━━━━━━━━━━━━━━\u001b[0m\u001b[37m\u001b[0m \u001b[1m10s\u001b[0m 141ms/step - accuracy: 0.1383 - loss: 3.0384\n",
            "Epoch 8/10\n",
            "\u001b[1m37/37\u001b[0m \u001b[32m━━━━━━━━━━━━━━━━━━━━\u001b[0m\u001b[37m\u001b[0m \u001b[1m10s\u001b[0m 125ms/step - accuracy: 0.1498 - loss: 3.0148\n",
            "Epoch 9/10\n",
            "\u001b[1m37/37\u001b[0m \u001b[32m━━━━━━━━━━━━━━━━━━━━\u001b[0m\u001b[37m\u001b[0m \u001b[1m6s\u001b[0m 161ms/step - accuracy: 0.1548 - loss: 2.9935\n",
            "Epoch 10/10\n",
            "\u001b[1m37/37\u001b[0m \u001b[32m━━━━━━━━━━━━━━━━━━━━\u001b[0m\u001b[37m\u001b[0m \u001b[1m9s\u001b[0m 126ms/step - accuracy: 0.1493 - loss: 2.9870\n",
            "Epoch 1/10\n",
            "\u001b[1m37/37\u001b[0m \u001b[32m━━━━━━━━━━━━━━━━━━━━\u001b[0m\u001b[37m\u001b[0m \u001b[1m4s\u001b[0m 29ms/step - accuracy: 0.0941 - loss: 3.6418\n",
            "Epoch 2/10\n",
            "\u001b[1m37/37\u001b[0m \u001b[32m━━━━━━━━━━━━━━━━━━━━\u001b[0m\u001b[37m\u001b[0m \u001b[1m1s\u001b[0m 28ms/step - accuracy: 0.1497 - loss: 3.0268\n",
            "Epoch 3/10\n",
            "\u001b[1m37/37\u001b[0m \u001b[32m━━━━━━━━━━━━━━━━━━━━\u001b[0m\u001b[37m\u001b[0m \u001b[1m1s\u001b[0m 27ms/step - accuracy: 0.1477 - loss: 3.0154\n",
            "Epoch 4/10\n",
            "\u001b[1m37/37\u001b[0m \u001b[32m━━━━━━━━━━━━━━━━━━━━\u001b[0m\u001b[37m\u001b[0m \u001b[1m1s\u001b[0m 26ms/step - accuracy: 0.1469 - loss: 2.9812\n",
            "Epoch 5/10\n",
            "\u001b[1m37/37\u001b[0m \u001b[32m━━━━━━━━━━━━━━━━━━━━\u001b[0m\u001b[37m\u001b[0m \u001b[1m1s\u001b[0m 29ms/step - accuracy: 0.1816 - loss: 2.9305\n",
            "Epoch 6/10\n",
            "\u001b[1m37/37\u001b[0m \u001b[32m━━━━━━━━━━━━━━━━━━━━\u001b[0m\u001b[37m\u001b[0m \u001b[1m1s\u001b[0m 28ms/step - accuracy: 0.2402 - loss: 2.7585\n",
            "Epoch 7/10\n",
            "\u001b[1m37/37\u001b[0m \u001b[32m━━━━━━━━━━━━━━━━━━━━\u001b[0m\u001b[37m\u001b[0m \u001b[1m1s\u001b[0m 25ms/step - accuracy: 0.2850 - loss: 2.6443\n",
            "Epoch 8/10\n",
            "\u001b[1m37/37\u001b[0m \u001b[32m━━━━━━━━━━━━━━━━━━━━\u001b[0m\u001b[37m\u001b[0m \u001b[1m1s\u001b[0m 34ms/step - accuracy: 0.2918 - loss: 2.5393\n",
            "Epoch 9/10\n",
            "\u001b[1m37/37\u001b[0m \u001b[32m━━━━━━━━━━━━━━━━━━━━\u001b[0m\u001b[37m\u001b[0m \u001b[1m2s\u001b[0m 27ms/step - accuracy: 0.2758 - loss: 2.5359\n",
            "Epoch 10/10\n",
            "\u001b[1m37/37\u001b[0m \u001b[32m━━━━━━━━━━━━━━━━━━━━\u001b[0m\u001b[37m\u001b[0m \u001b[1m1s\u001b[0m 29ms/step - accuracy: 0.3076 - loss: 2.4471\n"
          ]
        }
      ]
    },
    {
      "cell_type": "code",
      "source": [
        "# Evaluate the models\n",
        "def evaluate_model(model, data, seq_length):\n",
        "    X_val, y_val = data\n",
        "    loss, accuracy = model.evaluate(X_val, y_val)\n",
        "    return loss, accuracy\n",
        "\n",
        "for length in seq_lengths:\n",
        "    transformer_loss, transformer_acc = evaluate_model(models[length], data[length], length)\n",
        "    rnn_loss, rnn_acc = evaluate_model(rnn_models[length], data[length], length)\n",
        "    print(f\"Sequence Length {length} - Transformer: Loss={transformer_loss}, Accuracy={transformer_acc}\")\n",
        "    print(f\"Sequence Length {length} - RNN: Loss={rnn_loss}, Accuracy={rnn_acc}\")"
      ],
      "metadata": {
        "colab": {
          "base_uri": "https://localhost:8080/"
        },
        "id": "Bn5xvmtozRZA",
        "outputId": "b3045e22-6964-405b-de64-49348f3ad60c"
      },
      "execution_count": null,
      "outputs": [
        {
          "output_type": "stream",
          "name": "stdout",
          "text": [
            "\u001b[1m75/75\u001b[0m \u001b[32m━━━━━━━━━━━━━━━━━━━━\u001b[0m\u001b[37m\u001b[0m \u001b[1m1s\u001b[0m 10ms/step - accuracy: 0.2893 - loss: 2.4333\n",
            "\u001b[1m75/75\u001b[0m \u001b[32m━━━━━━━━━━━━━━━━━━━━\u001b[0m\u001b[37m\u001b[0m \u001b[1m1s\u001b[0m 4ms/step - accuracy: 0.3394 - loss: 2.3482\n",
            "Sequence Length 10 - Transformer: Loss=2.473850965499878, Accuracy=0.27964675426483154\n",
            "Sequence Length 10 - RNN: Loss=2.3763086795806885, Accuracy=0.33137089014053345\n",
            "\u001b[1m74/74\u001b[0m \u001b[32m━━━━━━━━━━━━━━━━━━━━\u001b[0m\u001b[37m\u001b[0m \u001b[1m2s\u001b[0m 21ms/step - accuracy: 0.1894 - loss: 2.8115\n",
            "\u001b[1m74/74\u001b[0m \u001b[32m━━━━━━━━━━━━━━━━━━━━\u001b[0m\u001b[37m\u001b[0m \u001b[1m1s\u001b[0m 6ms/step - accuracy: 0.3257 - loss: 2.4193\n",
            "Sequence Length 20 - Transformer: Loss=2.8271613121032715, Accuracy=0.18496622145175934\n",
            "Sequence Length 20 - RNN: Loss=2.4349310398101807, Accuracy=0.31967905163764954\n",
            "\u001b[1m74/74\u001b[0m \u001b[32m━━━━━━━━━━━━━━━━━━━━\u001b[0m\u001b[37m\u001b[0m \u001b[1m2s\u001b[0m 21ms/step - accuracy: 0.1564 - loss: 2.9501\n",
            "\u001b[1m74/74\u001b[0m \u001b[32m━━━━━━━━━━━━━━━━━━━━\u001b[0m\u001b[37m\u001b[0m \u001b[1m1s\u001b[0m 7ms/step - accuracy: 0.3153 - loss: 2.3970\n",
            "Sequence Length 30 - Transformer: Loss=2.960627794265747, Accuracy=0.15988124907016754\n",
            "Sequence Length 30 - RNN: Loss=2.405667781829834, Accuracy=0.3197624981403351\n"
          ]
        }
      ]
    }
  ]
}
